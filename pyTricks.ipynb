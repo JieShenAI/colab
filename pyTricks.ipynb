{
  "nbformat": 4,
  "nbformat_minor": 0,
  "metadata": {
    "colab": {
      "provenance": [],
      "collapsed_sections": [],
      "toc_visible": true,
      "authorship_tag": "ABX9TyMG8wxJ+QbbjztrFjUSaoIE",
      "include_colab_link": true
    },
    "kernelspec": {
      "name": "python3",
      "display_name": "Python 3"
    },
    "language_info": {
      "name": "python"
    }
  },
  "cells": [
    {
      "cell_type": "markdown",
      "metadata": {
        "id": "view-in-github",
        "colab_type": "text"
      },
      "source": [
        "<a href=\"https://colab.research.google.com/github/JieShenAI/colab/blob/main/pyTricks.ipynb\" target=\"_parent\"><img src=\"https://colab.research.google.com/assets/colab-badge.svg\" alt=\"Open In Colab\"/></a>"
      ]
    },
    {
      "cell_type": "markdown",
      "source": [
        "最深处递归函数的值，会逐层被带回来"
      ],
      "metadata": {
        "id": "5LzwL0w6tMWZ"
      }
    },
    {
      "cell_type": "code",
      "execution_count": 4,
      "metadata": {
        "colab": {
          "base_uri": "https://localhost:8080/"
        },
        "id": "SFRhNXW5tHWu",
        "outputId": "6864a022-e107-4662-8509-3bfe7884b901"
      },
      "outputs": [
        {
          "output_type": "stream",
          "name": "stdout",
          "text": [
            "5\n"
          ]
        }
      ],
      "source": [
        "def dfs(v):\n",
        "  if v >= 5:\n",
        "    return v\n",
        "  return dfs(v + 1)\n",
        "_ = dfs(0)\n",
        "print(_)"
      ]
    },
    {
      "cell_type": "markdown",
      "source": [
        "函数内部修改对象的值"
      ],
      "metadata": {
        "id": "FVyJuYFJtmet"
      }
    },
    {
      "cell_type": "code",
      "source": [
        "arr = [1,2,4]\n",
        "# 修改对象的值成功\n",
        "def change1(obj):\n",
        "  obj[1] = 1\n",
        "change1(arr)\n",
        "print(arr)\n",
        "\n",
        "# 修改对象指向失败\n",
        "def change2(obj):\n",
        "  obj = [1,2,3]\n",
        "change2(arr)\n",
        "print(arr)"
      ],
      "metadata": {
        "colab": {
          "base_uri": "https://localhost:8080/"
        },
        "id": "fmuR6ssxz4PK",
        "outputId": "e646b951-9ef9-461d-f49c-5989d1580725"
      },
      "execution_count": 5,
      "outputs": [
        {
          "output_type": "stream",
          "name": "stdout",
          "text": [
            "[1, 1, 4]\n",
            "[1, 1, 4]\n"
          ]
        }
      ]
    }
  ]
}